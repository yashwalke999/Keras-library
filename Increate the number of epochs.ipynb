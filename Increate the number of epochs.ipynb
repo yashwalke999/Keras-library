{
 "cells": [
  {
   "cell_type": "markdown",
   "metadata": {
    "button": false,
    "new_sheet": false,
    "run_control": {
     "read_only": false
    }
   },
   "source": [
    "## Download and Clean Dataset"
   ]
  },
  {
   "cell_type": "markdown",
   "metadata": {
    "button": false,
    "new_sheet": false,
    "run_control": {
     "read_only": false
    }
   },
   "source": [
    "Let's start by importing the <em>pandas</em> and the Numpy libraries."
   ]
  },
  {
   "cell_type": "code",
   "execution_count": 4,
   "metadata": {
    "button": false,
    "new_sheet": false,
    "run_control": {
     "read_only": false
    }
   },
   "outputs": [],
   "source": [
    "import pandas as pd\n",
    "import numpy as np"
   ]
  },
  {
   "cell_type": "markdown",
   "metadata": {
    "button": false,
    "new_sheet": false,
    "run_control": {
     "read_only": false
    }
   },
   "source": [
    "Let's download the data and read it into a <em>pandas</em> dataframe."
   ]
  },
  {
   "cell_type": "code",
   "execution_count": 5,
   "metadata": {
    "button": false,
    "new_sheet": false,
    "run_control": {
     "read_only": false
    }
   },
   "outputs": [
    {
     "data": {
      "text/html": [
       "<div>\n",
       "<style scoped>\n",
       "    .dataframe tbody tr th:only-of-type {\n",
       "        vertical-align: middle;\n",
       "    }\n",
       "\n",
       "    .dataframe tbody tr th {\n",
       "        vertical-align: top;\n",
       "    }\n",
       "\n",
       "    .dataframe thead th {\n",
       "        text-align: right;\n",
       "    }\n",
       "</style>\n",
       "<table border=\"1\" class=\"dataframe\">\n",
       "  <thead>\n",
       "    <tr style=\"text-align: right;\">\n",
       "      <th></th>\n",
       "      <th>Cement</th>\n",
       "      <th>Blast Furnace Slag</th>\n",
       "      <th>Fly Ash</th>\n",
       "      <th>Water</th>\n",
       "      <th>Superplasticizer</th>\n",
       "      <th>Coarse Aggregate</th>\n",
       "      <th>Fine Aggregate</th>\n",
       "      <th>Age</th>\n",
       "      <th>Strength</th>\n",
       "    </tr>\n",
       "  </thead>\n",
       "  <tbody>\n",
       "    <tr>\n",
       "      <td>0</td>\n",
       "      <td>540.0</td>\n",
       "      <td>0.0</td>\n",
       "      <td>0.0</td>\n",
       "      <td>162.0</td>\n",
       "      <td>2.5</td>\n",
       "      <td>1040.0</td>\n",
       "      <td>676.0</td>\n",
       "      <td>28</td>\n",
       "      <td>79.99</td>\n",
       "    </tr>\n",
       "    <tr>\n",
       "      <td>1</td>\n",
       "      <td>540.0</td>\n",
       "      <td>0.0</td>\n",
       "      <td>0.0</td>\n",
       "      <td>162.0</td>\n",
       "      <td>2.5</td>\n",
       "      <td>1055.0</td>\n",
       "      <td>676.0</td>\n",
       "      <td>28</td>\n",
       "      <td>61.89</td>\n",
       "    </tr>\n",
       "    <tr>\n",
       "      <td>2</td>\n",
       "      <td>332.5</td>\n",
       "      <td>142.5</td>\n",
       "      <td>0.0</td>\n",
       "      <td>228.0</td>\n",
       "      <td>0.0</td>\n",
       "      <td>932.0</td>\n",
       "      <td>594.0</td>\n",
       "      <td>270</td>\n",
       "      <td>40.27</td>\n",
       "    </tr>\n",
       "    <tr>\n",
       "      <td>3</td>\n",
       "      <td>332.5</td>\n",
       "      <td>142.5</td>\n",
       "      <td>0.0</td>\n",
       "      <td>228.0</td>\n",
       "      <td>0.0</td>\n",
       "      <td>932.0</td>\n",
       "      <td>594.0</td>\n",
       "      <td>365</td>\n",
       "      <td>41.05</td>\n",
       "    </tr>\n",
       "    <tr>\n",
       "      <td>4</td>\n",
       "      <td>198.6</td>\n",
       "      <td>132.4</td>\n",
       "      <td>0.0</td>\n",
       "      <td>192.0</td>\n",
       "      <td>0.0</td>\n",
       "      <td>978.4</td>\n",
       "      <td>825.5</td>\n",
       "      <td>360</td>\n",
       "      <td>44.30</td>\n",
       "    </tr>\n",
       "  </tbody>\n",
       "</table>\n",
       "</div>"
      ],
      "text/plain": [
       "   Cement  Blast Furnace Slag  Fly Ash  Water  Superplasticizer  \\\n",
       "0   540.0                 0.0      0.0  162.0               2.5   \n",
       "1   540.0                 0.0      0.0  162.0               2.5   \n",
       "2   332.5               142.5      0.0  228.0               0.0   \n",
       "3   332.5               142.5      0.0  228.0               0.0   \n",
       "4   198.6               132.4      0.0  192.0               0.0   \n",
       "\n",
       "   Coarse Aggregate  Fine Aggregate  Age  Strength  \n",
       "0            1040.0           676.0   28     79.99  \n",
       "1            1055.0           676.0   28     61.89  \n",
       "2             932.0           594.0  270     40.27  \n",
       "3             932.0           594.0  365     41.05  \n",
       "4             978.4           825.5  360     44.30  "
      ]
     },
     "execution_count": 5,
     "metadata": {},
     "output_type": "execute_result"
    }
   ],
   "source": [
    "concrete_data = pd.read_csv('https://s3-api.us-geo.objectstorage.softlayer.net/cf-courses-data/CognitiveClass/DL0101EN/labs/data/concrete_data.csv')\n",
    "concrete_data.head()"
   ]
  },
  {
   "cell_type": "markdown",
   "metadata": {
    "button": false,
    "new_sheet": false,
    "run_control": {
     "read_only": false
    }
   },
   "source": [
    "## Problem A"
   ]
  },
  {
   "cell_type": "markdown",
   "metadata": {
    "button": false,
    "new_sheet": false,
    "run_control": {
     "read_only": false
    }
   },
   "source": [
    "#### Split data into predictors and target"
   ]
  },
  {
   "cell_type": "markdown",
   "metadata": {},
   "source": [
    "The target variable in this problem is the concrete sample strength. Therefore, our predictors will be all the other columns."
   ]
  },
  {
   "cell_type": "code",
   "execution_count": 6,
   "metadata": {
    "button": false,
    "new_sheet": false,
    "run_control": {
     "read_only": false
    }
   },
   "outputs": [],
   "source": [
    "concrete_data_columns = concrete_data.columns\n",
    "\n",
    "predictors = concrete_data[concrete_data_columns[concrete_data_columns != 'Strength']] # all columns except Strength\n",
    "target = concrete_data['Strength'] # Strength column"
   ]
  },
  {
   "cell_type": "code",
   "execution_count": 7,
   "metadata": {},
   "outputs": [],
   "source": [
    "from sklearn.model_selection import train_test_split"
   ]
  },
  {
   "cell_type": "code",
   "execution_count": 8,
   "metadata": {},
   "outputs": [],
   "source": [
    "X_train, X_test, y_train, y_test = train_test_split(predictors, target, test_size=0.3, random_state=42)"
   ]
  },
  {
   "cell_type": "markdown",
   "metadata": {},
   "source": [
    "### Import Karas "
   ]
  },
  {
   "cell_type": "code",
   "execution_count": 9,
   "metadata": {
    "button": false,
    "new_sheet": false,
    "run_control": {
     "read_only": false
    },
    "scrolled": true
   },
   "outputs": [
    {
     "name": "stderr",
     "output_type": "stream",
     "text": [
      "Using TensorFlow backend.\n"
     ]
    }
   ],
   "source": [
    "import keras"
   ]
  },
  {
   "cell_type": "code",
   "execution_count": 10,
   "metadata": {
    "button": false,
    "new_sheet": false,
    "run_control": {
     "read_only": false
    }
   },
   "outputs": [],
   "source": [
    "from keras.models import Sequential\n",
    "from keras.layers import Dense"
   ]
  },
  {
   "cell_type": "code",
   "execution_count": 27,
   "metadata": {
    "button": false,
    "new_sheet": false,
    "run_control": {
     "read_only": false
    }
   },
   "outputs": [],
   "source": [
    "# define regression model\n",
    "def regression_model():\n",
    "    # create model\n",
    "    model = Sequential()\n",
    "    model.add(Dense(10, activation='relu', input_shape=(n_cols,)))\n",
    "    model.add(Dense(1))\n",
    "    \n",
    "    # compile model\n",
    "    model.compile(optimizer='adam', loss='mean_squared_error')\n",
    "    return model"
   ]
  },
  {
   "cell_type": "code",
   "execution_count": 28,
   "metadata": {},
   "outputs": [],
   "source": [
    "n_cols = X_train.shape[1]"
   ]
  },
  {
   "cell_type": "code",
   "execution_count": 29,
   "metadata": {},
   "outputs": [
    {
     "data": {
      "text/plain": [
       "8"
      ]
     },
     "execution_count": 29,
     "metadata": {},
     "output_type": "execute_result"
    }
   ],
   "source": [
    "n_cols"
   ]
  },
  {
   "cell_type": "code",
   "execution_count": 30,
   "metadata": {},
   "outputs": [],
   "source": [
    "model = regression_model()"
   ]
  },
  {
   "cell_type": "code",
   "execution_count": 31,
   "metadata": {},
   "outputs": [
    {
     "name": "stdout",
     "output_type": "stream",
     "text": [
      "Train on 721 samples, validate on 309 samples\n",
      "Epoch 1/50\n",
      " - 0s - loss: 65618.4432 - val_loss: 49524.3869\n",
      "Epoch 2/50\n",
      " - 0s - loss: 39677.4023 - val_loss: 27688.3178\n",
      "Epoch 3/50\n",
      " - 0s - loss: 20203.6887 - val_loss: 11980.6822\n",
      "Epoch 4/50\n",
      " - 0s - loss: 7720.1759 - val_loss: 3649.4771\n",
      "Epoch 5/50\n",
      " - 0s - loss: 2098.9773 - val_loss: 815.5679\n",
      "Epoch 6/50\n",
      " - 0s - loss: 576.7658 - val_loss: 409.6789\n",
      "Epoch 7/50\n",
      " - 0s - loss: 408.0838 - val_loss: 400.2332\n",
      "Epoch 8/50\n",
      " - 0s - loss: 402.3851 - val_loss: 395.5539\n",
      "Epoch 9/50\n",
      " - 0s - loss: 398.1500 - val_loss: 390.8469\n",
      "Epoch 10/50\n",
      " - 0s - loss: 393.4453 - val_loss: 386.2074\n",
      "Epoch 11/50\n",
      " - 0s - loss: 388.6418 - val_loss: 382.4837\n",
      "Epoch 12/50\n",
      " - 0s - loss: 384.7418 - val_loss: 378.0051\n",
      "Epoch 13/50\n",
      " - 0s - loss: 379.2015 - val_loss: 372.8403\n",
      "Epoch 14/50\n",
      " - 0s - loss: 374.8247 - val_loss: 368.2506\n",
      "Epoch 15/50\n",
      " - 0s - loss: 371.1124 - val_loss: 364.2951\n",
      "Epoch 16/50\n",
      " - 0s - loss: 366.0217 - val_loss: 359.1058\n",
      "Epoch 17/50\n",
      " - 0s - loss: 360.5713 - val_loss: 354.4486\n",
      "Epoch 18/50\n",
      " - 0s - loss: 355.4614 - val_loss: 350.7355\n",
      "Epoch 19/50\n",
      " - 0s - loss: 351.2110 - val_loss: 345.2685\n",
      "Epoch 20/50\n",
      " - 0s - loss: 346.4554 - val_loss: 341.7716\n",
      "Epoch 21/50\n",
      " - 0s - loss: 340.8270 - val_loss: 335.9076\n",
      "Epoch 22/50\n",
      " - 0s - loss: 337.1033 - val_loss: 331.6181\n",
      "Epoch 23/50\n",
      " - 0s - loss: 331.6429 - val_loss: 327.9347\n",
      "Epoch 24/50\n",
      " - 0s - loss: 327.7387 - val_loss: 323.2279\n",
      "Epoch 25/50\n",
      " - 0s - loss: 323.0597 - val_loss: 318.4785\n",
      "Epoch 26/50\n",
      " - 0s - loss: 318.0309 - val_loss: 314.6481\n",
      "Epoch 27/50\n",
      " - 0s - loss: 313.9212 - val_loss: 310.4483\n",
      "Epoch 28/50\n",
      " - 0s - loss: 309.5356 - val_loss: 306.1258\n",
      "Epoch 29/50\n",
      " - 0s - loss: 304.5729 - val_loss: 302.9206\n",
      "Epoch 30/50\n",
      " - 0s - loss: 301.0584 - val_loss: 298.2283\n",
      "Epoch 31/50\n",
      " - 0s - loss: 296.0869 - val_loss: 294.3445\n",
      "Epoch 32/50\n",
      " - 0s - loss: 292.1794 - val_loss: 289.9082\n",
      "Epoch 33/50\n",
      " - 0s - loss: 287.6397 - val_loss: 285.1610\n",
      "Epoch 34/50\n",
      " - 0s - loss: 283.5685 - val_loss: 281.6506\n",
      "Epoch 35/50\n",
      " - 0s - loss: 279.5079 - val_loss: 278.0150\n",
      "Epoch 36/50\n",
      " - 0s - loss: 275.7278 - val_loss: 273.7250\n",
      "Epoch 37/50\n",
      " - 0s - loss: 272.4914 - val_loss: 270.5662\n",
      "Epoch 38/50\n",
      " - 0s - loss: 267.9418 - val_loss: 266.5686\n",
      "Epoch 39/50\n",
      " - 0s - loss: 264.1212 - val_loss: 263.7395\n",
      "Epoch 40/50\n",
      " - 0s - loss: 260.2441 - val_loss: 259.5461\n",
      "Epoch 41/50\n",
      " - 0s - loss: 256.5946 - val_loss: 255.9850\n",
      "Epoch 42/50\n",
      " - 0s - loss: 253.0068 - val_loss: 253.1323\n",
      "Epoch 43/50\n",
      " - 0s - loss: 251.1336 - val_loss: 249.4271\n",
      "Epoch 44/50\n",
      " - 0s - loss: 246.6485 - val_loss: 246.3278\n",
      "Epoch 45/50\n",
      " - 0s - loss: 242.5055 - val_loss: 243.0183\n",
      "Epoch 46/50\n",
      " - 0s - loss: 239.0200 - val_loss: 239.5647\n",
      "Epoch 47/50\n",
      " - 0s - loss: 236.3728 - val_loss: 237.2176\n",
      "Epoch 48/50\n",
      " - 0s - loss: 232.0208 - val_loss: 232.8670\n",
      "Epoch 49/50\n",
      " - 0s - loss: 229.7621 - val_loss: 230.1439\n",
      "Epoch 50/50\n",
      " - 0s - loss: 226.7205 - val_loss: 227.6130\n"
     ]
    }
   ],
   "source": [
    "model.fit(X_train, y_train,validation_data=(X_test, y_test),epochs=50,verbose=2)\n",
    "scores = model.evaluate(X_test, y_test, verbose=0)"
   ]
  },
  {
   "cell_type": "code",
   "execution_count": 41,
   "metadata": {},
   "outputs": [
    {
     "data": {
      "text/plain": [
       "690034.0473301428"
      ]
     },
     "execution_count": 41,
     "metadata": {},
     "output_type": "execute_result"
    }
   ],
   "source": [
    "from sklearn.metrics import mean_squared_error\n",
    "y_pred = model.predict(X_test)\n",
    "mean_squared_error(y_test, y_pred)"
   ]
  },
  {
   "cell_type": "markdown",
   "metadata": {},
   "source": [
    "# Problem B Normalize the data "
   ]
  },
  {
   "cell_type": "code",
   "execution_count": 32,
   "metadata": {},
   "outputs": [
    {
     "data": {
      "text/html": [
       "<div>\n",
       "<style scoped>\n",
       "    .dataframe tbody tr th:only-of-type {\n",
       "        vertical-align: middle;\n",
       "    }\n",
       "\n",
       "    .dataframe tbody tr th {\n",
       "        vertical-align: top;\n",
       "    }\n",
       "\n",
       "    .dataframe thead th {\n",
       "        text-align: right;\n",
       "    }\n",
       "</style>\n",
       "<table border=\"1\" class=\"dataframe\">\n",
       "  <thead>\n",
       "    <tr style=\"text-align: right;\">\n",
       "      <th></th>\n",
       "      <th>Cement</th>\n",
       "      <th>Blast Furnace Slag</th>\n",
       "      <th>Fly Ash</th>\n",
       "      <th>Water</th>\n",
       "      <th>Superplasticizer</th>\n",
       "      <th>Coarse Aggregate</th>\n",
       "      <th>Fine Aggregate</th>\n",
       "      <th>Age</th>\n",
       "    </tr>\n",
       "  </thead>\n",
       "  <tbody>\n",
       "    <tr>\n",
       "      <td>0</td>\n",
       "      <td>2.476712</td>\n",
       "      <td>-0.856472</td>\n",
       "      <td>-0.846733</td>\n",
       "      <td>-0.916319</td>\n",
       "      <td>-0.620147</td>\n",
       "      <td>0.862735</td>\n",
       "      <td>-1.217079</td>\n",
       "      <td>-0.279597</td>\n",
       "    </tr>\n",
       "    <tr>\n",
       "      <td>1</td>\n",
       "      <td>2.476712</td>\n",
       "      <td>-0.856472</td>\n",
       "      <td>-0.846733</td>\n",
       "      <td>-0.916319</td>\n",
       "      <td>-0.620147</td>\n",
       "      <td>1.055651</td>\n",
       "      <td>-1.217079</td>\n",
       "      <td>-0.279597</td>\n",
       "    </tr>\n",
       "    <tr>\n",
       "      <td>2</td>\n",
       "      <td>0.491187</td>\n",
       "      <td>0.795140</td>\n",
       "      <td>-0.846733</td>\n",
       "      <td>2.174405</td>\n",
       "      <td>-1.038638</td>\n",
       "      <td>-0.526262</td>\n",
       "      <td>-2.239829</td>\n",
       "      <td>3.551340</td>\n",
       "    </tr>\n",
       "    <tr>\n",
       "      <td>3</td>\n",
       "      <td>0.491187</td>\n",
       "      <td>0.795140</td>\n",
       "      <td>-0.846733</td>\n",
       "      <td>2.174405</td>\n",
       "      <td>-1.038638</td>\n",
       "      <td>-0.526262</td>\n",
       "      <td>-2.239829</td>\n",
       "      <td>5.055221</td>\n",
       "    </tr>\n",
       "    <tr>\n",
       "      <td>4</td>\n",
       "      <td>-0.790075</td>\n",
       "      <td>0.678079</td>\n",
       "      <td>-0.846733</td>\n",
       "      <td>0.488555</td>\n",
       "      <td>-1.038638</td>\n",
       "      <td>0.070492</td>\n",
       "      <td>0.647569</td>\n",
       "      <td>4.976069</td>\n",
       "    </tr>\n",
       "  </tbody>\n",
       "</table>\n",
       "</div>"
      ],
      "text/plain": [
       "     Cement  Blast Furnace Slag   Fly Ash     Water  Superplasticizer  \\\n",
       "0  2.476712           -0.856472 -0.846733 -0.916319         -0.620147   \n",
       "1  2.476712           -0.856472 -0.846733 -0.916319         -0.620147   \n",
       "2  0.491187            0.795140 -0.846733  2.174405         -1.038638   \n",
       "3  0.491187            0.795140 -0.846733  2.174405         -1.038638   \n",
       "4 -0.790075            0.678079 -0.846733  0.488555         -1.038638   \n",
       "\n",
       "   Coarse Aggregate  Fine Aggregate       Age  \n",
       "0          0.862735       -1.217079 -0.279597  \n",
       "1          1.055651       -1.217079 -0.279597  \n",
       "2         -0.526262       -2.239829  3.551340  \n",
       "3         -0.526262       -2.239829  5.055221  \n",
       "4          0.070492        0.647569  4.976069  "
      ]
     },
     "execution_count": 32,
     "metadata": {},
     "output_type": "execute_result"
    }
   ],
   "source": [
    "predictors_norm = (predictors - predictors.mean()) / predictors.std()\n",
    "predictors_norm.head()"
   ]
  },
  {
   "cell_type": "code",
   "execution_count": 33,
   "metadata": {},
   "outputs": [],
   "source": [
    "X_train_norm, X_test_norm, y_train_norm, y_test_norm = train_test_split(predictors_norm, target, test_size=0.3, random_state=42)"
   ]
  },
  {
   "cell_type": "code",
   "execution_count": 34,
   "metadata": {},
   "outputs": [
    {
     "name": "stdout",
     "output_type": "stream",
     "text": [
      "Train on 721 samples, validate on 309 samples\n",
      "Epoch 1/50\n",
      " - 0s - loss: 1617.2603 - val_loss: 1506.3004\n",
      "Epoch 2/50\n",
      " - 0s - loss: 1581.5634 - val_loss: 1477.3604\n",
      "Epoch 3/50\n",
      " - 0s - loss: 1558.1595 - val_loss: 1457.2654\n",
      "Epoch 4/50\n",
      " - 0s - loss: 1540.8604 - val_loss: 1439.7062\n",
      "Epoch 5/50\n",
      " - 0s - loss: 1524.9142 - val_loss: 1423.0531\n",
      "Epoch 6/50\n",
      " - 0s - loss: 1509.2631 - val_loss: 1406.5546\n",
      "Epoch 7/50\n",
      " - 0s - loss: 1493.4781 - val_loss: 1389.9360\n",
      "Epoch 8/50\n",
      " - 0s - loss: 1477.3497 - val_loss: 1373.4669\n",
      "Epoch 9/50\n",
      " - 0s - loss: 1461.0926 - val_loss: 1356.7770\n",
      "Epoch 10/50\n",
      " - 0s - loss: 1444.9514 - val_loss: 1340.0785\n",
      "Epoch 11/50\n",
      " - 0s - loss: 1428.5564 - val_loss: 1323.2554\n",
      "Epoch 12/50\n",
      " - 0s - loss: 1412.0104 - val_loss: 1306.2165\n",
      "Epoch 13/50\n",
      " - 0s - loss: 1395.2854 - val_loss: 1289.3819\n",
      "Epoch 14/50\n",
      " - 0s - loss: 1378.5983 - val_loss: 1272.9324\n",
      "Epoch 15/50\n",
      " - 0s - loss: 1362.2993 - val_loss: 1255.9041\n",
      "Epoch 16/50\n",
      " - 0s - loss: 1345.4372 - val_loss: 1239.2791\n",
      "Epoch 17/50\n",
      " - 0s - loss: 1328.7570 - val_loss: 1222.8521\n",
      "Epoch 18/50\n",
      " - 0s - loss: 1312.2630 - val_loss: 1205.9964\n",
      "Epoch 19/50\n",
      " - 0s - loss: 1295.4506 - val_loss: 1189.6806\n",
      "Epoch 20/50\n",
      " - 0s - loss: 1279.0685 - val_loss: 1173.4662\n",
      "Epoch 21/50\n",
      " - 0s - loss: 1262.7514 - val_loss: 1157.2748\n",
      "Epoch 22/50\n",
      " - 0s - loss: 1246.4148 - val_loss: 1141.4334\n",
      "Epoch 23/50\n",
      " - 0s - loss: 1230.3948 - val_loss: 1125.4176\n",
      "Epoch 24/50\n",
      " - 0s - loss: 1214.4583 - val_loss: 1109.3575\n",
      "Epoch 25/50\n",
      " - 0s - loss: 1198.5133 - val_loss: 1094.0811\n",
      "Epoch 26/50\n",
      " - 0s - loss: 1183.1174 - val_loss: 1078.8328\n",
      "Epoch 27/50\n",
      " - 0s - loss: 1167.6367 - val_loss: 1063.9011\n",
      "Epoch 28/50\n",
      " - 0s - loss: 1152.5272 - val_loss: 1048.8827\n",
      "Epoch 29/50\n",
      " - 0s - loss: 1137.4553 - val_loss: 1034.5670\n",
      "Epoch 30/50\n",
      " - 0s - loss: 1122.7795 - val_loss: 1020.1572\n",
      "Epoch 31/50\n",
      " - 0s - loss: 1108.4779 - val_loss: 1005.5939\n",
      "Epoch 32/50\n",
      " - 0s - loss: 1093.8761 - val_loss: 991.8361\n",
      "Epoch 33/50\n",
      " - 0s - loss: 1079.8607 - val_loss: 978.1379\n",
      "Epoch 34/50\n",
      " - 0s - loss: 1065.9760 - val_loss: 964.2963\n",
      "Epoch 35/50\n",
      " - 0s - loss: 1051.5395 - val_loss: 949.8179\n",
      "Epoch 36/50\n",
      " - 0s - loss: 1035.3219 - val_loss: 932.7556\n",
      "Epoch 37/50\n",
      " - 0s - loss: 1015.5879 - val_loss: 912.1145\n",
      "Epoch 38/50\n",
      " - 0s - loss: 992.6097 - val_loss: 889.2260\n",
      "Epoch 39/50\n",
      " - 0s - loss: 967.5766 - val_loss: 865.2433\n",
      "Epoch 40/50\n",
      " - 0s - loss: 941.5020 - val_loss: 841.1508\n",
      "Epoch 41/50\n",
      " - 0s - loss: 915.2511 - val_loss: 817.1496\n",
      "Epoch 42/50\n",
      " - 0s - loss: 889.1446 - val_loss: 792.9275\n",
      "Epoch 43/50\n",
      " - 0s - loss: 863.5258 - val_loss: 769.0905\n",
      "Epoch 44/50\n",
      " - 0s - loss: 838.0931 - val_loss: 745.8278\n",
      "Epoch 45/50\n",
      " - 0s - loss: 813.0022 - val_loss: 723.3638\n",
      "Epoch 46/50\n",
      " - 0s - loss: 788.7600 - val_loss: 701.5963\n",
      "Epoch 47/50\n",
      " - 0s - loss: 764.9985 - val_loss: 680.0992\n",
      "Epoch 48/50\n",
      " - 0s - loss: 741.9616 - val_loss: 659.1627\n",
      "Epoch 49/50\n",
      " - 0s - loss: 719.3284 - val_loss: 639.1395\n",
      "Epoch 50/50\n",
      " - 0s - loss: 697.6197 - val_loss: 619.8194\n"
     ]
    }
   ],
   "source": [
    "model.fit(X_train_norm, y_train_norm,validation_data=(X_test_norm, y_test_norm),epochs=50,verbose=2)\n",
    "scores = model.evaluate(X_test_norm, y_test_norm, verbose=0)"
   ]
  },
  {
   "cell_type": "code",
   "execution_count": 42,
   "metadata": {},
   "outputs": [
    {
     "data": {
      "text/plain": [
       "96.73186725804555"
      ]
     },
     "execution_count": 42,
     "metadata": {},
     "output_type": "execute_result"
    }
   ],
   "source": [
    "y_pred_norm = model.predict(X_test_norm)\n",
    "mean_squared_error(y_test_norm, y_pred_norm)"
   ]
  },
  {
   "cell_type": "markdown",
   "metadata": {},
   "source": [
    "### Mean square error decreased compared to A "
   ]
  },
  {
   "cell_type": "markdown",
   "metadata": {},
   "source": [
    "# Problem C "
   ]
  },
  {
   "cell_type": "code",
   "execution_count": 43,
   "metadata": {},
   "outputs": [
    {
     "name": "stdout",
     "output_type": "stream",
     "text": [
      "Train on 721 samples, validate on 309 samples\n",
      "Epoch 1/100\n",
      " - 0s - loss: 90.2095 - val_loss: 96.5532\n",
      "Epoch 2/100\n",
      " - 0s - loss: 89.9590 - val_loss: 96.3199\n",
      "Epoch 3/100\n",
      " - 0s - loss: 89.6868 - val_loss: 96.1621\n",
      "Epoch 4/100\n",
      " - 0s - loss: 89.4233 - val_loss: 95.8896\n",
      "Epoch 5/100\n",
      " - 0s - loss: 89.1521 - val_loss: 95.7205\n",
      "Epoch 6/100\n",
      " - 0s - loss: 88.8700 - val_loss: 95.5258\n",
      "Epoch 7/100\n",
      " - 0s - loss: 88.6379 - val_loss: 95.3579\n",
      "Epoch 8/100\n",
      " - 0s - loss: 88.3271 - val_loss: 95.1272\n",
      "Epoch 9/100\n",
      " - 0s - loss: 88.1389 - val_loss: 95.0690\n",
      "Epoch 10/100\n",
      " - 0s - loss: 87.9175 - val_loss: 94.6419\n",
      "Epoch 11/100\n",
      " - 0s - loss: 87.6791 - val_loss: 94.5947\n",
      "Epoch 12/100\n",
      " - 0s - loss: 87.3558 - val_loss: 94.3040\n",
      "Epoch 13/100\n",
      " - 0s - loss: 87.1890 - val_loss: 93.9984\n",
      "Epoch 14/100\n",
      " - 0s - loss: 86.8646 - val_loss: 94.0594\n",
      "Epoch 15/100\n",
      " - 0s - loss: 86.6351 - val_loss: 93.8163\n",
      "Epoch 16/100\n",
      " - 0s - loss: 86.4463 - val_loss: 93.6897\n",
      "Epoch 17/100\n",
      " - 0s - loss: 86.2171 - val_loss: 93.5432\n",
      "Epoch 18/100\n",
      " - 0s - loss: 85.9410 - val_loss: 93.4303\n",
      "Epoch 19/100\n",
      " - 0s - loss: 85.7032 - val_loss: 93.1204\n",
      "Epoch 20/100\n",
      " - 0s - loss: 85.4546 - val_loss: 93.0292\n",
      "Epoch 21/100\n",
      " - 0s - loss: 85.1699 - val_loss: 92.8131\n",
      "Epoch 22/100\n",
      " - 0s - loss: 85.0057 - val_loss: 92.5683\n",
      "Epoch 23/100\n",
      " - 0s - loss: 84.7282 - val_loss: 92.2496\n",
      "Epoch 24/100\n",
      " - 0s - loss: 84.4883 - val_loss: 92.1630\n",
      "Epoch 25/100\n",
      " - 0s - loss: 84.2384 - val_loss: 92.0087\n",
      "Epoch 26/100\n",
      " - 0s - loss: 83.9708 - val_loss: 91.8405\n",
      "Epoch 27/100\n",
      " - 0s - loss: 83.7959 - val_loss: 91.5822\n",
      "Epoch 28/100\n",
      " - 0s - loss: 83.5249 - val_loss: 91.4624\n",
      "Epoch 29/100\n",
      " - 0s - loss: 83.2841 - val_loss: 91.3411\n",
      "Epoch 30/100\n",
      " - 0s - loss: 83.0695 - val_loss: 91.2141\n",
      "Epoch 31/100\n",
      " - 0s - loss: 82.8003 - val_loss: 90.7404\n",
      "Epoch 32/100\n",
      " - 0s - loss: 82.5790 - val_loss: 90.7478\n",
      "Epoch 33/100\n",
      " - 0s - loss: 82.3339 - val_loss: 90.5914\n",
      "Epoch 34/100\n",
      " - 0s - loss: 82.0955 - val_loss: 90.3349\n",
      "Epoch 35/100\n",
      " - 0s - loss: 81.9145 - val_loss: 90.1599\n",
      "Epoch 36/100\n",
      " - 0s - loss: 81.6346 - val_loss: 89.7929\n",
      "Epoch 37/100\n",
      " - 0s - loss: 81.3731 - val_loss: 89.6354\n",
      "Epoch 38/100\n",
      " - 0s - loss: 81.1281 - val_loss: 89.4658\n",
      "Epoch 39/100\n",
      " - 0s - loss: 80.9823 - val_loss: 89.4241\n",
      "Epoch 40/100\n",
      " - 0s - loss: 80.7246 - val_loss: 89.0091\n",
      "Epoch 41/100\n",
      " - 0s - loss: 80.5088 - val_loss: 88.9522\n",
      "Epoch 42/100\n",
      " - 0s - loss: 80.2871 - val_loss: 88.6745\n",
      "Epoch 43/100\n",
      " - 0s - loss: 80.0445 - val_loss: 88.5031\n",
      "Epoch 44/100\n",
      " - 0s - loss: 79.7980 - val_loss: 88.3785\n",
      "Epoch 45/100\n",
      " - 0s - loss: 79.5810 - val_loss: 88.1245\n",
      "Epoch 46/100\n",
      " - 0s - loss: 79.4235 - val_loss: 88.0245\n",
      "Epoch 47/100\n",
      " - 0s - loss: 79.1689 - val_loss: 87.5837\n",
      "Epoch 48/100\n",
      " - 0s - loss: 78.9692 - val_loss: 87.6482\n",
      "Epoch 49/100\n",
      " - 0s - loss: 78.7235 - val_loss: 87.3334\n",
      "Epoch 50/100\n",
      " - 0s - loss: 78.5038 - val_loss: 87.3288\n",
      "Epoch 51/100\n",
      " - 0s - loss: 78.2743 - val_loss: 87.0510\n",
      "Epoch 52/100\n",
      " - 0s - loss: 78.0897 - val_loss: 87.0625\n",
      "Epoch 53/100\n",
      " - 0s - loss: 77.8777 - val_loss: 86.6874\n",
      "Epoch 54/100\n",
      " - 0s - loss: 77.6803 - val_loss: 86.5841\n",
      "Epoch 55/100\n",
      " - 0s - loss: 77.5497 - val_loss: 86.6345\n",
      "Epoch 56/100\n",
      " - 0s - loss: 77.1904 - val_loss: 86.1434\n",
      "Epoch 57/100\n",
      " - 0s - loss: 77.0547 - val_loss: 86.0540\n",
      "Epoch 58/100\n",
      " - 0s - loss: 76.9127 - val_loss: 86.0909\n",
      "Epoch 59/100\n",
      " - 0s - loss: 76.5966 - val_loss: 85.7484\n",
      "Epoch 60/100\n",
      " - 0s - loss: 76.4404 - val_loss: 85.6456\n",
      "Epoch 61/100\n",
      " - 0s - loss: 76.2467 - val_loss: 85.5653\n",
      "Epoch 62/100\n",
      " - 0s - loss: 76.0773 - val_loss: 85.4965\n",
      "Epoch 63/100\n",
      " - 0s - loss: 75.8264 - val_loss: 85.1997\n",
      "Epoch 64/100\n",
      " - 0s - loss: 75.6758 - val_loss: 85.0607\n",
      "Epoch 65/100\n",
      " - 0s - loss: 75.4373 - val_loss: 84.8505\n",
      "Epoch 66/100\n",
      " - 0s - loss: 75.2673 - val_loss: 84.7638\n",
      "Epoch 67/100\n",
      " - 0s - loss: 75.0516 - val_loss: 84.5636\n",
      "Epoch 68/100\n",
      " - 0s - loss: 74.9359 - val_loss: 84.4645\n",
      "Epoch 69/100\n",
      " - 0s - loss: 74.7718 - val_loss: 84.1286\n",
      "Epoch 70/100\n",
      " - 0s - loss: 74.5277 - val_loss: 84.0851\n",
      "Epoch 71/100\n",
      " - 0s - loss: 74.3612 - val_loss: 83.9433\n",
      "Epoch 72/100\n",
      " - 0s - loss: 74.2395 - val_loss: 83.7654\n",
      "Epoch 73/100\n",
      " - 0s - loss: 74.0705 - val_loss: 83.5247\n",
      "Epoch 74/100\n",
      " - 0s - loss: 73.8526 - val_loss: 83.5243\n",
      "Epoch 75/100\n",
      " - 0s - loss: 73.6855 - val_loss: 83.3306\n",
      "Epoch 76/100\n",
      " - 0s - loss: 73.5498 - val_loss: 83.1034\n",
      "Epoch 77/100\n",
      " - 0s - loss: 73.4211 - val_loss: 83.1087\n",
      "Epoch 78/100\n",
      " - 0s - loss: 73.2129 - val_loss: 82.9865\n",
      "Epoch 79/100\n",
      " - 0s - loss: 73.0765 - val_loss: 82.9200\n",
      "Epoch 80/100\n",
      " - 0s - loss: 72.9286 - val_loss: 82.6122\n",
      "Epoch 81/100\n",
      " - 0s - loss: 72.7546 - val_loss: 82.5287\n",
      "Epoch 82/100\n",
      " - 0s - loss: 72.5908 - val_loss: 82.4028\n",
      "Epoch 83/100\n",
      " - 0s - loss: 72.4768 - val_loss: 82.2797\n",
      "Epoch 84/100\n",
      " - 0s - loss: 72.3144 - val_loss: 81.9113\n",
      "Epoch 85/100\n",
      " - 0s - loss: 72.1227 - val_loss: 81.8023\n",
      "Epoch 86/100\n",
      " - 0s - loss: 72.0398 - val_loss: 81.5969\n",
      "Epoch 87/100\n",
      " - 0s - loss: 71.8391 - val_loss: 81.4927\n",
      "Epoch 88/100\n",
      " - 0s - loss: 71.6938 - val_loss: 81.4309\n",
      "Epoch 89/100\n",
      " - 0s - loss: 71.5683 - val_loss: 81.1566\n",
      "Epoch 90/100\n",
      " - 0s - loss: 71.4117 - val_loss: 81.1510\n",
      "Epoch 91/100\n",
      " - 0s - loss: 71.2809 - val_loss: 80.8393\n",
      "Epoch 92/100\n",
      " - 0s - loss: 71.1287 - val_loss: 80.7777\n",
      "Epoch 93/100\n",
      " - 0s - loss: 71.0764 - val_loss: 80.6228\n",
      "Epoch 94/100\n",
      " - 0s - loss: 70.8628 - val_loss: 80.4873\n",
      "Epoch 95/100\n",
      " - 0s - loss: 70.7294 - val_loss: 80.4349\n",
      "Epoch 96/100\n",
      " - 0s - loss: 70.6450 - val_loss: 80.1504\n",
      "Epoch 97/100\n",
      " - 0s - loss: 70.4653 - val_loss: 80.0810\n",
      "Epoch 98/100\n",
      " - 0s - loss: 70.2759 - val_loss: 79.8799\n",
      "Epoch 99/100\n",
      " - 0s - loss: 70.1441 - val_loss: 79.8072\n",
      "Epoch 100/100\n",
      " - 0s - loss: 69.9990 - val_loss: 79.6773\n"
     ]
    }
   ],
   "source": [
    "model.fit(X_train_norm, y_train_norm,validation_data=(X_test_norm, y_test_norm),epochs=100,verbose=2)\n",
    "scores = model.evaluate(X_test_norm, y_test_norm, verbose=0)"
   ]
  },
  {
   "cell_type": "code",
   "execution_count": 44,
   "metadata": {},
   "outputs": [
    {
     "data": {
      "text/plain": [
       "79.67727318646112"
      ]
     },
     "execution_count": 44,
     "metadata": {},
     "output_type": "execute_result"
    }
   ],
   "source": [
    "y_pred_norm = model.predict(X_test_norm)\n",
    "mean_squared_error(y_test_norm, y_pred_norm)"
   ]
  },
  {
   "cell_type": "markdown",
   "metadata": {},
   "source": [
    "### Mean square erroe decreased compared to B "
   ]
  },
  {
   "cell_type": "markdown",
   "metadata": {},
   "source": [
    "# Problem D "
   ]
  },
  {
   "cell_type": "code",
   "execution_count": 46,
   "metadata": {},
   "outputs": [],
   "source": [
    "# define regression model\n",
    "def regression_model_new():\n",
    "    # create model\n",
    "    model = Sequential()\n",
    "    model.add(Dense(10, activation='relu', input_shape=(n_cols,)))\n",
    "    model.add(Dense(10, activation='relu'))\n",
    "    model.add(Dense(10, activation='relu'))\n",
    "    model.add(Dense(1))\n",
    "    \n",
    "    # compile model\n",
    "    model.compile(optimizer='adam', loss='mean_squared_error')\n",
    "    return model"
   ]
  },
  {
   "cell_type": "code",
   "execution_count": 47,
   "metadata": {},
   "outputs": [],
   "source": [
    "model_new = regression_model_new()"
   ]
  },
  {
   "cell_type": "code",
   "execution_count": 48,
   "metadata": {},
   "outputs": [
    {
     "name": "stdout",
     "output_type": "stream",
     "text": [
      "Train on 721 samples, validate on 309 samples\n",
      "Epoch 1/100\n",
      " - 0s - loss: 1552.8862 - val_loss: 1443.9380\n",
      "Epoch 2/100\n",
      " - 0s - loss: 1517.2082 - val_loss: 1399.9967\n",
      "Epoch 3/100\n",
      " - 0s - loss: 1462.2405 - val_loss: 1331.6108\n",
      "Epoch 4/100\n",
      " - 0s - loss: 1378.4965 - val_loss: 1226.2649\n",
      "Epoch 5/100\n",
      " - 0s - loss: 1252.1612 - val_loss: 1080.9394\n",
      "Epoch 6/100\n",
      " - 0s - loss: 1081.8602 - val_loss: 891.1842\n",
      "Epoch 7/100\n",
      " - 0s - loss: 869.0626 - val_loss: 684.4579\n",
      "Epoch 8/100\n",
      " - 0s - loss: 652.7277 - val_loss: 492.5281\n",
      "Epoch 9/100\n",
      " - 0s - loss: 470.9462 - val_loss: 362.8299\n",
      "Epoch 10/100\n",
      " - 0s - loss: 353.6359 - val_loss: 284.5052\n",
      "Epoch 11/100\n",
      " - 0s - loss: 281.5572 - val_loss: 237.4742\n",
      "Epoch 12/100\n",
      " - 0s - loss: 239.0847 - val_loss: 212.5453\n",
      "Epoch 13/100\n",
      " - 0s - loss: 213.6581 - val_loss: 197.0247\n",
      "Epoch 14/100\n",
      " - 0s - loss: 200.5852 - val_loss: 187.0808\n",
      "Epoch 15/100\n",
      " - 0s - loss: 190.0141 - val_loss: 181.5073\n",
      "Epoch 16/100\n",
      " - 0s - loss: 183.9461 - val_loss: 177.3468\n",
      "Epoch 17/100\n",
      " - 0s - loss: 179.0691 - val_loss: 174.6060\n",
      "Epoch 18/100\n",
      " - 0s - loss: 174.8855 - val_loss: 172.4109\n",
      "Epoch 19/100\n",
      " - 0s - loss: 171.8304 - val_loss: 171.0482\n",
      "Epoch 20/100\n",
      " - 0s - loss: 169.6512 - val_loss: 169.4979\n",
      "Epoch 21/100\n",
      " - 0s - loss: 166.8811 - val_loss: 168.2324\n",
      "Epoch 22/100\n",
      " - 0s - loss: 164.8983 - val_loss: 166.5409\n",
      "Epoch 23/100\n",
      " - 0s - loss: 163.6273 - val_loss: 165.1803\n",
      "Epoch 24/100\n",
      " - 0s - loss: 161.0465 - val_loss: 163.7999\n",
      "Epoch 25/100\n",
      " - 0s - loss: 159.4777 - val_loss: 162.5785\n",
      "Epoch 26/100\n",
      " - 0s - loss: 158.0013 - val_loss: 161.5936\n",
      "Epoch 27/100\n",
      " - 0s - loss: 156.5962 - val_loss: 160.3842\n",
      "Epoch 28/100\n",
      " - 0s - loss: 155.3257 - val_loss: 159.9715\n",
      "Epoch 29/100\n",
      " - 0s - loss: 153.6435 - val_loss: 158.2245\n",
      "Epoch 30/100\n",
      " - 0s - loss: 152.4275 - val_loss: 157.2503\n",
      "Epoch 31/100\n",
      " - 0s - loss: 151.5235 - val_loss: 155.9443\n",
      "Epoch 32/100\n",
      " - 0s - loss: 149.9267 - val_loss: 155.3799\n",
      "Epoch 33/100\n",
      " - 0s - loss: 148.9006 - val_loss: 154.1613\n",
      "Epoch 34/100\n",
      " - 0s - loss: 148.0016 - val_loss: 152.4530\n",
      "Epoch 35/100\n",
      " - 0s - loss: 146.7222 - val_loss: 151.5654\n",
      "Epoch 36/100\n",
      " - 0s - loss: 145.8061 - val_loss: 150.9127\n",
      "Epoch 37/100\n",
      " - 0s - loss: 144.3945 - val_loss: 149.9708\n",
      "Epoch 38/100\n",
      " - 0s - loss: 143.3631 - val_loss: 148.2962\n",
      "Epoch 39/100\n",
      " - 0s - loss: 142.4455 - val_loss: 147.6499\n",
      "Epoch 40/100\n",
      " - 0s - loss: 141.2529 - val_loss: 145.9180\n",
      "Epoch 41/100\n",
      " - 0s - loss: 139.9743 - val_loss: 145.1302\n",
      "Epoch 42/100\n",
      " - 0s - loss: 139.0767 - val_loss: 143.8811\n",
      "Epoch 43/100\n",
      " - 0s - loss: 138.1552 - val_loss: 142.6321\n",
      "Epoch 44/100\n",
      " - 0s - loss: 137.0691 - val_loss: 141.2790\n",
      "Epoch 45/100\n",
      " - 0s - loss: 136.0975 - val_loss: 140.8012\n",
      "Epoch 46/100\n",
      " - 0s - loss: 135.1487 - val_loss: 139.9459\n",
      "Epoch 47/100\n",
      " - 0s - loss: 134.3308 - val_loss: 138.8771\n",
      "Epoch 48/100\n",
      " - 0s - loss: 133.5225 - val_loss: 137.8871\n",
      "Epoch 49/100\n",
      " - 0s - loss: 132.6475 - val_loss: 136.9133\n",
      "Epoch 50/100\n",
      " - 0s - loss: 132.0007 - val_loss: 135.8705\n",
      "Epoch 51/100\n",
      " - 0s - loss: 131.2226 - val_loss: 135.0173\n",
      "Epoch 52/100\n",
      " - 0s - loss: 130.2527 - val_loss: 134.7472\n",
      "Epoch 53/100\n",
      " - 0s - loss: 129.5424 - val_loss: 133.5823\n",
      "Epoch 54/100\n",
      " - 0s - loss: 128.7561 - val_loss: 133.1118\n",
      "Epoch 55/100\n",
      " - 0s - loss: 128.0609 - val_loss: 132.0136\n",
      "Epoch 56/100\n",
      " - 0s - loss: 127.2172 - val_loss: 131.6271\n",
      "Epoch 57/100\n",
      " - 0s - loss: 127.0364 - val_loss: 130.0485\n",
      "Epoch 58/100\n",
      " - 0s - loss: 126.0251 - val_loss: 130.0738\n",
      "Epoch 59/100\n",
      " - 0s - loss: 125.3899 - val_loss: 129.2374\n",
      "Epoch 60/100\n",
      " - 0s - loss: 124.8051 - val_loss: 128.2099\n",
      "Epoch 61/100\n",
      " - 0s - loss: 123.9331 - val_loss: 127.8718\n",
      "Epoch 62/100\n",
      " - 0s - loss: 123.5470 - val_loss: 127.6934\n",
      "Epoch 63/100\n",
      " - 0s - loss: 123.0342 - val_loss: 126.8452\n",
      "Epoch 64/100\n",
      " - 0s - loss: 121.9337 - val_loss: 125.8057\n",
      "Epoch 65/100\n",
      " - 0s - loss: 121.4761 - val_loss: 125.4914\n",
      "Epoch 66/100\n",
      " - 0s - loss: 121.1599 - val_loss: 124.6485\n",
      "Epoch 67/100\n",
      " - 0s - loss: 120.0166 - val_loss: 124.0215\n",
      "Epoch 68/100\n",
      " - 0s - loss: 119.4523 - val_loss: 123.2306\n",
      "Epoch 69/100\n",
      " - 0s - loss: 119.2463 - val_loss: 122.9431\n",
      "Epoch 70/100\n",
      " - 0s - loss: 118.2156 - val_loss: 122.7217\n",
      "Epoch 71/100\n",
      " - 0s - loss: 117.5308 - val_loss: 121.2854\n",
      "Epoch 72/100\n",
      " - 0s - loss: 117.4239 - val_loss: 120.9585\n",
      "Epoch 73/100\n",
      " - 0s - loss: 116.7424 - val_loss: 120.6299\n",
      "Epoch 74/100\n",
      " - 0s - loss: 115.7422 - val_loss: 119.7985\n",
      "Epoch 75/100\n",
      " - 0s - loss: 115.2269 - val_loss: 119.2554\n",
      "Epoch 76/100\n",
      " - 0s - loss: 114.5500 - val_loss: 118.7514\n",
      "Epoch 77/100\n",
      " - 0s - loss: 113.7921 - val_loss: 118.5373\n",
      "Epoch 78/100\n",
      " - 0s - loss: 113.5806 - val_loss: 117.2556\n",
      "Epoch 79/100\n",
      " - 0s - loss: 113.1749 - val_loss: 117.0963\n",
      "Epoch 80/100\n",
      " - 0s - loss: 112.2267 - val_loss: 116.0179\n",
      "Epoch 81/100\n",
      " - 0s - loss: 111.3496 - val_loss: 116.0234\n",
      "Epoch 82/100\n",
      " - 0s - loss: 110.7860 - val_loss: 115.1277\n",
      "Epoch 83/100\n",
      " - 0s - loss: 109.9989 - val_loss: 114.8185\n",
      "Epoch 84/100\n",
      " - 0s - loss: 109.4133 - val_loss: 113.9634\n",
      "Epoch 85/100\n",
      " - 0s - loss: 108.7388 - val_loss: 113.4348\n",
      "Epoch 86/100\n",
      " - 0s - loss: 108.4401 - val_loss: 112.7570\n",
      "Epoch 87/100\n",
      " - 0s - loss: 107.6270 - val_loss: 112.1670\n",
      "Epoch 88/100\n",
      " - 0s - loss: 107.1728 - val_loss: 111.1390\n",
      "Epoch 89/100\n",
      " - 0s - loss: 106.5612 - val_loss: 111.0785\n",
      "Epoch 90/100\n",
      " - 0s - loss: 105.9345 - val_loss: 110.0453\n",
      "Epoch 91/100\n",
      " - 0s - loss: 105.4819 - val_loss: 109.9529\n",
      "Epoch 92/100\n",
      " - 0s - loss: 104.6709 - val_loss: 110.4594\n",
      "Epoch 93/100\n",
      " - 0s - loss: 104.1920 - val_loss: 109.5436\n",
      "Epoch 94/100\n",
      " - 0s - loss: 103.7051 - val_loss: 108.7830\n",
      "Epoch 95/100\n",
      " - 0s - loss: 103.1275 - val_loss: 108.6462\n",
      "Epoch 96/100\n",
      " - 0s - loss: 102.7313 - val_loss: 108.2175\n",
      "Epoch 97/100\n",
      " - 0s - loss: 101.9454 - val_loss: 107.8492\n",
      "Epoch 98/100\n",
      " - 0s - loss: 101.3652 - val_loss: 107.2488\n",
      "Epoch 99/100\n",
      " - 0s - loss: 101.0737 - val_loss: 106.5265\n",
      "Epoch 100/100\n",
      " - 0s - loss: 100.4321 - val_loss: 106.6024\n"
     ]
    }
   ],
   "source": [
    "model_new.fit(X_train_norm, y_train_norm,validation_data=(X_test_norm, y_test_norm),epochs=100,verbose=2)\n",
    "scores = model.evaluate(X_test_norm, y_test_norm, verbose=0)"
   ]
  },
  {
   "cell_type": "code",
   "execution_count": 49,
   "metadata": {},
   "outputs": [
    {
     "data": {
      "text/plain": [
       "106.60239503266381"
      ]
     },
     "execution_count": 49,
     "metadata": {},
     "output_type": "execute_result"
    }
   ],
   "source": [
    "y_pred_norm = model_new.predict(X_test_norm)\n",
    "mean_squared_error(y_test_norm, y_pred_norm)"
   ]
  },
  {
   "cell_type": "markdown",
   "metadata": {},
   "source": [
    "### Mean square erroe increased compared to B "
   ]
  },
  {
   "cell_type": "markdown",
   "metadata": {
    "button": false,
    "new_sheet": false,
    "run_control": {
     "read_only": false
    }
   },
   "source": [
    "<a id=\"item2\"></a>"
   ]
  }
 ],
 "metadata": {
  "kernelspec": {
   "display_name": "Python 3",
   "language": "python",
   "name": "python3"
  },
  "language_info": {
   "codemirror_mode": {
    "name": "ipython",
    "version": 3
   },
   "file_extension": ".py",
   "mimetype": "text/x-python",
   "name": "python",
   "nbconvert_exporter": "python",
   "pygments_lexer": "ipython3",
   "version": "3.7.4"
  }
 },
 "nbformat": 4,
 "nbformat_minor": 4
}
